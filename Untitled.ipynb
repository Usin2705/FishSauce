{
 "cells": [
  {
   "cell_type": "code",
   "execution_count": 79,
   "metadata": {},
   "outputs": [
    {
     "name": "stdout",
     "output_type": "stream",
     "text": [
      "Test case 01 : Hello world : world.\n",
      "Test case 02 : Hello World : world.\n",
      "Test case 03 : HelloWorld : world.\n",
      "Total errors: 0\n"
     ]
    }
   ],
   "source": [
    "def textTranslate(text, meanings, callBackTrue = None, targs=(), callBackFalse = None, fargs=()):\n",
    "    text = text.lower().split()\n",
    "    for word in text:\n",
    "        if type(meanings) is str:\n",
    "            if meanings==word:\n",
    "                if callBackTrue:\n",
    "                    callBackTrue(*targs)\n",
    "                return True\n",
    "            \n",
    "        else:\n",
    "            for meaning in meanings:\n",
    "                if meaning==word:\n",
    "                    if callBackTrue:\n",
    "                        callBackTrue(*targs)\n",
    "                    return True\n",
    "            \n",
    "    return False\n",
    "\n",
    "def test():    \n",
    "    error = 0\n",
    "    i = 1\n",
    "    \n",
    "    print(\"Test case {:02} : Hello world : world.\".format(i))\n",
    "    expected = True\n",
    "    result = textTranslate(\"Hello world\", \"world\")\n",
    "    if (expected!=result): error=error+1\n",
    "    i+=1\n",
    "    \n",
    "    print(\"Test case {:02} : Hello World : world.\".format(i))\n",
    "    expected = True\n",
    "    result = textTranslate(\"Hello World\", \"world\")\n",
    "    if (expected!=result): error=error+1\n",
    "    i+=1\n",
    "    \n",
    "    print(\"Test case {:02} : HelloWorld : world.\".format(i))\n",
    "    expected = False\n",
    "    result = textTranslate(\"HelloWorld\", \"world\")\n",
    "    if (expected!=result): error=error+1\n",
    "    i+=1\n",
    "        \n",
    "    print(\"Total errors: {}\".format(error))\n",
    "\n",
    "def callBackTrue(*targs):\n",
    "    print(\"Hey it's true\")\n",
    "\n",
    "test()"
   ]
  },
  {
   "cell_type": "code",
   "execution_count": null,
   "metadata": {
    "collapsed": true
   },
   "outputs": [],
   "source": []
  }
 ],
 "metadata": {
  "kernelspec": {
   "display_name": "Python 3",
   "language": "python",
   "name": "python3"
  },
  "language_info": {
   "codemirror_mode": {
    "name": "ipython",
    "version": 3
   },
   "file_extension": ".py",
   "mimetype": "text/x-python",
   "name": "python",
   "nbconvert_exporter": "python",
   "pygments_lexer": "ipython3",
   "version": "3.6.6"
  }
 },
 "nbformat": 4,
 "nbformat_minor": 2
}
