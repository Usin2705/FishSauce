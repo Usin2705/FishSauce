{
 "cells": [
  {
   "cell_type": "code",
   "execution_count": 15,
   "metadata": {},
   "outputs": [
    {
     "name": "stdout",
     "output_type": "stream",
     "text": [
      "Test case 01 : Hello world : world.\n",
      "Test case 02 : Hello World : world.\n",
      "Test case 03 : HelloWorld : world.\n",
      "Test case 04 : Hello world : world.\n",
      "Test case 05 : Says : [Says, Say]\n",
      "Total errors: 0\n"
     ]
    }
   ],
   "source": [
    "def textVerify(text, meanings, callBackTrue = None, targs=(), callBackFalse = None, fargs=()):\n",
    "    text = text.lower().split()\n",
    "    for word in text:\n",
    "        if type(meanings) is str:\n",
    "            if meanings.lower()==word:\n",
    "                if callBackTrue:\n",
    "                    callBackTrue(*targs)\n",
    "                return True\n",
    "            \n",
    "        else:\n",
    "            for meaning in meanings:\n",
    "                if meaning.lower()==word:\n",
    "                    if callBackTrue:\n",
    "                        callBackTrue(*targs)\n",
    "                    return True\n",
    "            \n",
    "    return False\n",
    "\n",
    "def test():    \n",
    "    error = 0\n",
    "    i = 1\n",
    "    \n",
    "    print(\"Test case {:02} : Hello world : world.\".format(i))\n",
    "    expected = True\n",
    "    result = textVerify(\"Hello world\", \"world\")\n",
    "    if (expected!=result): \n",
    "        error=error+1\n",
    "        print(\"Error\")\n",
    "    i+=1\n",
    "    \n",
    "    print(\"Test case {:02} : Hello World : world.\".format(i))\n",
    "    expected = True\n",
    "    result = textVerify(\"Hello World\", \"world\")\n",
    "    if (expected!=result): \n",
    "        error=error+1\n",
    "        print(\"Error\")\n",
    "    i+=1\n",
    "    \n",
    "    print(\"Test case {:02} : HelloWorld : world.\".format(i))\n",
    "    expected = False\n",
    "    result = textVerify(\"HelloWorld\", \"world\")\n",
    "    if (expected!=result): error=error+1\n",
    "    if (expected!=result): \n",
    "        error=error+1\n",
    "        print(\"Error\")\n",
    "    i+=1\n",
    "    \n",
    "    print(\"Test case {:02} : Hello world : world.\".format(i))\n",
    "    expected = True\n",
    "    result = textVerify(\"Hello world\", \"World\")\n",
    "    if (expected!=result): \n",
    "        error=error+1\n",
    "        print(\"Error\")\n",
    "    i+=1\n",
    "    \n",
    "    print(\"Test case {:02} : Says : [Says, Say]\".format(i))\n",
    "    expected = True\n",
    "    result = textVerify(\"Says\", [\"Says\", \"say\"])\n",
    "    if (expected!=result): \n",
    "        error=error+1\n",
    "        print(\"Error\")\n",
    "    i+=1\n",
    "        \n",
    "    print(\"Total errors: {}\".format(error))\n",
    "\n",
    "test()"
   ]
  },
  {
   "cell_type": "code",
   "execution_count": null,
   "metadata": {
    "collapsed": true
   },
   "outputs": [],
   "source": []
  }
 ],
 "metadata": {
  "kernelspec": {
   "display_name": "Python 3",
   "language": "python",
   "name": "python3"
  },
  "language_info": {
   "codemirror_mode": {
    "name": "ipython",
    "version": 3
   },
   "file_extension": ".py",
   "mimetype": "text/x-python",
   "name": "python",
   "nbconvert_exporter": "python",
   "pygments_lexer": "ipython3",
   "version": "3.6.6"
  }
 },
 "nbformat": 4,
 "nbformat_minor": 2
}
